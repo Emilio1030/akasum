{
 "cells": [
  {
   "cell_type": "code",
   "execution_count": 8,
   "metadata": {},
   "outputs": [],
   "source": [
    "import base64\n",
    "import requests\n",
    "import dotenv\n",
    "import os\n",
    "import json\n",
    "\n",
    "from IPython.display import display, Markdown\n",
    "from openai import OpenAI\n",
    "dotenv.load_dotenv()\n",
    "\n",
    "\n",
    "# OpenAI API Key\n",
    "api_key = os.environ[\"OPENAI_API_KEY\"] = os.getenv('OPENAI_API_KEY')\n",
    "\n",
    "# Function to encode the image\n",
    "def encode_image(image_path):\n",
    "    with open(image_path, \"rb\") as image_file:\n",
    "        return base64.b64encode(image_file.read()).decode('utf-8')\n",
    "\n",
    "headers = {\n",
    "        \"Content-Type\": \"application/json\",\n",
    "        \"Authorization\": f\"Bearer {api_key}\"\n",
    "}\n",
    "\n",
    "client = OpenAI(api_key = api_key)\n",
    "def question_image(url,query,detail=\"low\"):\n",
    "    if url.startswith(\"http://\") or url.startswith(\"https://\"):\n",
    "        response = client.chat.completions.create(\n",
    "            model=\"gpt-4-vision-preview\",\n",
    "            messages=[\n",
    "            {\n",
    "            \"role\": \"user\",\n",
    "            \"content\": [\n",
    "                {\"type\": \"text\", \"text\": f\"{query}\"},\n",
    "                    {\n",
    "                    \"type\": \"image_url\",\n",
    "                    \"image_url\": url,\n",
    "                    },\n",
    "                ],\n",
    "            }\n",
    "        ],\n",
    "        max_tokens=1000,\n",
    "\n",
    "        )\n",
    "        return response.choices[0].message.content\n",
    "    else:\n",
    "\n",
    "        base64_image = encode_image(url)\n",
    "\n",
    "        payload = {\n",
    "            \"model\": \"gpt-4-vision-preview\",\n",
    "            \"messages\": [\n",
    "              {\n",
    "                \"role\": \"user\",\n",
    "                \"content\": [\n",
    "                  {\n",
    "                    \"type\": \"text\",\n",
    "                    \"text\": f\"{query}?\"\n",
    "                  },\n",
    "                  {\n",
    "                    \"type\": \"image_url\",\n",
    "                    \"image_url\": {\n",
    "                      \"url\": f\"data:image/jpeg;base64,{base64_image}\"\n",
    "                    },\n",
    "                  }\n",
    "                ]\n",
    "              }\n",
    "            ],\n",
    "            \"max_tokens\": 1000\n",
    "        }\n",
    "\n",
    "        response = requests.post(\"https://api.openai.com/v1/chat/completions\", headers=headers, json=payload)\n",
    "\n",
    "        temp=response.json()\n",
    "        return temp['choices'][0]['message']['content']"
   ]
  },
  {
   "cell_type": "code",
   "execution_count": 9,
   "metadata": {},
   "outputs": [
    {
     "name": "stdout",
     "output_type": "stream",
     "text": [
      "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\n"
     ]
    },
    {
     "ename": "KeyError",
     "evalue": "'choices'",
     "output_type": "error",
     "traceback": [
      "\u001b[0;31m---------------------------------------------------------------------------\u001b[0m",
      "\u001b[0;31mKeyError\u001b[0m                                  Traceback (most recent call last)",
      "Cell \u001b[0;32mIn[9], line 3\u001b[0m\n\u001b[1;32m      1\u001b[0m query\u001b[38;5;241m=\u001b[39m\u001b[38;5;124m\"\u001b[39m\u001b[38;5;124mwhat this image is about\u001b[39m\u001b[38;5;124m\"\u001b[39m\n\u001b[1;32m      2\u001b[0m image_url\u001b[38;5;241m=\u001b[39m\u001b[38;5;124mr\u001b[39m\u001b[38;5;124m\"\u001b[39m\u001b[38;5;124mreceipt_test.jpeg\u001b[39m\u001b[38;5;124m\"\u001b[39m\n\u001b[0;32m----> 3\u001b[0m abc\u001b[38;5;241m=\u001b[39m\u001b[43mquestion_image\u001b[49m\u001b[43m(\u001b[49m\u001b[43mimage_url\u001b[49m\u001b[43m,\u001b[49m\u001b[43mquery\u001b[49m\u001b[43m)\u001b[49m\n\u001b[1;32m      4\u001b[0m \u001b[38;5;28mprint\u001b[39m(abc)\n",
      "Cell \u001b[0;32mIn[8], line 75\u001b[0m, in \u001b[0;36mquestion_image\u001b[0;34m(url, query, detail)\u001b[0m\n\u001b[1;32m     72\u001b[0m response \u001b[38;5;241m=\u001b[39m requests\u001b[38;5;241m.\u001b[39mpost(\u001b[38;5;124m\"\u001b[39m\u001b[38;5;124mhttps://api.openai.com/v1/chat/completions\u001b[39m\u001b[38;5;124m\"\u001b[39m, headers\u001b[38;5;241m=\u001b[39mheaders, json\u001b[38;5;241m=\u001b[39mpayload)\n\u001b[1;32m     74\u001b[0m temp\u001b[38;5;241m=\u001b[39mresponse\u001b[38;5;241m.\u001b[39mjson()\n\u001b[0;32m---> 75\u001b[0m \u001b[38;5;28;01mreturn\u001b[39;00m \u001b[43mtemp\u001b[49m\u001b[43m[\u001b[49m\u001b[38;5;124;43m'\u001b[39;49m\u001b[38;5;124;43mchoices\u001b[39;49m\u001b[38;5;124;43m'\u001b[39;49m\u001b[43m]\u001b[49m[\u001b[38;5;241m0\u001b[39m][\u001b[38;5;124m'\u001b[39m\u001b[38;5;124mmessage\u001b[39m\u001b[38;5;124m'\u001b[39m][\u001b[38;5;124m'\u001b[39m\u001b[38;5;124mcontent\u001b[39m\u001b[38;5;124m'\u001b[39m]\n",
      "\u001b[0;31mKeyError\u001b[0m: 'choices'"
     ]
    }
   ],
   "source": [
    "query=\"what this image is about\"\n",
    "image_url=r\"receipt_test.jpeg\"\n",
    "abc=question_image(image_url,query)\n",
    "print(abc)"
   ]
  },
  {
   "cell_type": "code",
   "execution_count": 10,
   "metadata": {},
   "outputs": [
    {
     "name": "stdout",
     "output_type": "stream",
     "text": [
      "20221105.post22+git.9cc4d1dd\n"
     ]
    }
   ],
   "source": [
    "import pdfminer\n",
    "print(pdfminer.__version__)\n"
   ]
  },
  {
   "cell_type": "code",
   "execution_count": null,
   "metadata": {},
   "outputs": [],
   "source": []
  }
 ],
 "metadata": {
  "kernelspec": {
   "display_name": "akasum",
   "language": "python",
   "name": "python3"
  },
  "language_info": {
   "codemirror_mode": {
    "name": "ipython",
    "version": 3
   },
   "file_extension": ".py",
   "mimetype": "text/x-python",
   "name": "python",
   "nbconvert_exporter": "python",
   "pygments_lexer": "ipython3",
   "version": "3.8.12"
  }
 },
 "nbformat": 4,
 "nbformat_minor": 2
}
